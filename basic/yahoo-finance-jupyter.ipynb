{
 "cells": [
  {
   "cell_type": "code",
   "execution_count": 1,
   "metadata": {
    "collapsed": true,
    "pycharm": {
     "name": "#%%\n"
    }
   },
   "outputs": [],
   "source": [
    "import yfinance as yf"
   ]
  },
  {
   "cell_type": "code",
   "execution_count": 3,
   "outputs": [
    {
     "name": "stdout",
     "output_type": "stream",
     "text": [
      "[*********************100%***********************]  1 of 1 completed\n",
      "                  Open        High         Low       Close   Adj Close  \\\n",
      "Date                                                                     \n",
      "2018-12-31   39.632500   39.840000   39.119999   39.435001   38.124836   \n",
      "2019-01-02   38.722500   39.712502   38.557499   39.480000   38.168346   \n",
      "2019-01-03   35.994999   36.430000   35.500000   35.547501   34.366508   \n",
      "2019-01-04   36.132500   37.137501   35.950001   37.064999   35.833580   \n",
      "2019-01-07   37.174999   37.207500   36.474998   36.982498   35.753815   \n",
      "...                ...         ...         ...         ...         ...   \n",
      "2022-09-19  149.309998  154.559998  149.100006  154.479996  154.479996   \n",
      "2022-09-20  153.399994  158.080002  153.080002  156.899994  156.899994   \n",
      "2022-09-21  157.339996  158.740005  153.600006  153.720001  153.720001   \n",
      "2022-09-22  152.380005  154.470001  150.910004  152.740005  152.740005   \n",
      "2022-09-23  151.190002  151.470001  148.559998  150.429993  150.429993   \n",
      "\n",
      "               Volume  \n",
      "Date                   \n",
      "2018-12-31  140014000  \n",
      "2019-01-02  148158800  \n",
      "2019-01-03  365248800  \n",
      "2019-01-04  234428400  \n",
      "2019-01-07  219111200  \n",
      "...               ...  \n",
      "2022-09-19   81474200  \n",
      "2022-09-20  107689800  \n",
      "2022-09-21  101696800  \n",
      "2022-09-22   86652500  \n",
      "2022-09-23   95939200  \n",
      "\n",
      "[941 rows x 6 columns]\n"
     ]
    }
   ],
   "source": [
    "single_data = yf.download('AAPL', start='2019-01-01')\n",
    "print(single_data)"
   ],
   "metadata": {
    "collapsed": false,
    "pycharm": {
     "name": "#%%\n"
    }
   }
  },
  {
   "cell_type": "code",
   "execution_count": null,
   "outputs": [],
   "source": [],
   "metadata": {
    "collapsed": false,
    "pycharm": {
     "name": "#%%\n"
    }
   }
  }
 ],
 "metadata": {
  "kernelspec": {
   "display_name": "Python 3",
   "language": "python",
   "name": "python3"
  },
  "language_info": {
   "codemirror_mode": {
    "name": "ipython",
    "version": 2
   },
   "file_extension": ".py",
   "mimetype": "text/x-python",
   "name": "python",
   "nbconvert_exporter": "python",
   "pygments_lexer": "ipython2",
   "version": "2.7.6"
  }
 },
 "nbformat": 4,
 "nbformat_minor": 0
}